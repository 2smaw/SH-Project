{
 "cells": [
  {
   "cell_type": "code",
   "execution_count": 1,
   "id": "d8430989",
   "metadata": {},
   "outputs": [
    {
     "data": {
      "text/plain": [
       "trials to criterion    14\n",
       "Name: (39, ED), dtype: int64"
      ]
     },
     "execution_count": 1,
     "metadata": {},
     "output_type": "execute_result"
    }
   ],
   "source": [
    "import pandas as pd\n",
    "import os\n",
    "import glob\n",
    "com = pd.concat(map(pd.read_csv, glob.glob('*.csv')))\n",
    "ttc = com[['RatID','Stage','Correct/Incorrect']].groupby(['RatID','Stage']).sum()\n",
    "ttc.rename(columns={'Correct/Incorrect':'trials to criterion'},inplace=True)\n",
    "def getttc(id, stage):\n",
    "    return ttc.loc[id, stage]\n",
    "\n",
    "getttc(39, 'ED')"
   ]
  },
  {
   "cell_type": "code",
   "execution_count": null,
   "id": "0d991f7d-95c0-490a-8c4a-e65d4e429230",
   "metadata": {},
   "outputs": [],
   "source": []
  }
 ],
 "metadata": {
  "kernelspec": {
   "display_name": "Python 3 (ipykernel)",
   "language": "python",
   "name": "python3"
  },
  "language_info": {
   "codemirror_mode": {
    "name": "ipython",
    "version": 3
   },
   "file_extension": ".py",
   "mimetype": "text/x-python",
   "name": "python",
   "nbconvert_exporter": "python",
   "pygments_lexer": "ipython3",
   "version": "3.7.9"
  }
 },
 "nbformat": 4,
 "nbformat_minor": 5
}
